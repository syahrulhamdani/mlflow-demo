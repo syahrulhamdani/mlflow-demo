{
 "cells": [
  {
   "cell_type": "code",
   "execution_count": null,
   "metadata": {
    "cell_id": "ce0c9261652042059d4c63a478b84dee",
    "deepnote_cell_type": "code",
    "deepnote_to_be_reexecuted": false,
    "execution_millis": 339,
    "execution_start": 1668863728296,
    "source_hash": "e43e793f",
    "tags": []
   },
   "outputs": [],
   "source": [
    "from pathlib import Path\n",
    "\n",
    "import pandas as pd"
   ]
  },
  {
   "cell_type": "markdown",
   "metadata": {
    "cell_id": "0d3d7bb2100e4a82891b9455b2d4663a",
    "deepnote_cell_type": "markdown",
    "tags": []
   },
   "source": [
    "# Get Dataset\n",
    "\n",
    "We'll use NYC Green Taxi Trip data available in this link:\n",
    "https://www.nyc.gov/site/tlc/about/tlc-trip-record-data.page.\n",
    "\n"
   ]
  },
  {
   "cell_type": "code",
   "execution_count": null,
   "metadata": {
    "cell_id": "a018111ceb89449490f32682354c943a",
    "deepnote_cell_type": "code",
    "deepnote_to_be_reexecuted": false,
    "execution_millis": 674,
    "execution_start": 1668863731111,
    "source_hash": "29dcb684",
    "tags": []
   },
   "outputs": [],
   "source": [
    "nyc_jan_22 = pd.read_parquet(\"https://d37ci6vzurychx.cloudfront.net/trip-data/green_tripdata_2022-01.parquet\")\n",
    "nyc_feb_22 = pd.read_parquet(\"https://d37ci6vzurychx.cloudfront.net/trip-data/green_tripdata_2022-02.parquet\")\n",
    "nyc_mar_22 = pd.read_parquet(\"https://d37ci6vzurychx.cloudfront.net/trip-data/green_tripdata_2022-03.parquet\")"
   ]
  },
  {
   "cell_type": "code",
   "execution_count": null,
   "metadata": {},
   "outputs": [],
   "source": [
    "print(\"January '22 data:\", nyc_jan_22.shape)\n",
    "print(\"February '22 data:\", nyc_feb_22.shape)\n",
    "print(\"March '22 data:\", nyc_mar_22.shape)"
   ]
  },
  {
   "cell_type": "code",
   "execution_count": null,
   "metadata": {
    "cell_id": "3156fb2f59d140939eb27977f2f1a0ca",
    "deepnote_cell_type": "code",
    "deepnote_to_be_reexecuted": false,
    "execution_millis": 15,
    "execution_start": 1668863739583,
    "source_hash": "508e6a8b",
    "tags": []
   },
   "outputs": [],
   "source": [
    "nyc_jan_22.head()"
   ]
  },
  {
   "cell_type": "code",
   "execution_count": null,
   "metadata": {
    "tags": []
   },
   "outputs": [],
   "source": [
    "DATA_DIR = Path(\"data\")\n",
    "RAW_DATA_DIR = DATA_DIR / \"raw\"\n",
    "\n",
    "if not RAW_DATA_DIR.exists():\n",
    "    RAW_DATA_DIR.mkdir(parents=True)\n",
    "\n",
    "assert RAW_DATA_DIR.exists()"
   ]
  },
  {
   "cell_type": "code",
   "execution_count": null,
   "metadata": {
    "cell_id": "5775945f26ae47ce9e22ce1c93da66b8",
    "deepnote_cell_type": "code",
    "tags": []
   },
   "outputs": [],
   "source": [
    "nyc_jan_22.to_csv(RAW_DATA_DIR / \"green_tripdata_2022-01.csv\", index=False)\n",
    "nyc_feb_22.to_csv(RAW_DATA_DIR / \"green_tripdata_2022-02.csv\", index=False)\n",
    "nyc_mar_22.to_csv(RAW_DATA_DIR / \"green_tripdata_2022-03.csv\", index=False)"
   ]
  }
 ],
 "metadata": {
  "deepnote": {},
  "deepnote_execution_queue": [],
  "deepnote_notebook_id": "1c59d57ec7d6423a94c363472b38939e",
  "deepnote_persisted_session": {
   "createdAt": "2022-11-18T03:05:09.855Z"
  },
  "kernelspec": {
   "display_name": "Python 3 (ipykernel)",
   "language": "python",
   "name": "python3"
  },
  "language_info": {
   "codemirror_mode": {
    "name": "ipython",
    "version": 3
   },
   "file_extension": ".py",
   "mimetype": "text/x-python",
   "name": "python",
   "nbconvert_exporter": "python",
   "pygments_lexer": "ipython3",
   "version": "3.9.12"
  }
 },
 "nbformat": 4,
 "nbformat_minor": 4
}
