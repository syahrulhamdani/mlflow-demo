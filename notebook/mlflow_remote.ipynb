{
 "cells": [
  {
   "cell_type": "markdown",
   "id": "3ffed299-e6ec-45d0-82ba-9b4d9f3496b5",
   "metadata": {},
   "source": [
    "# Bonus - MLflow with GCP"
   ]
  },
  {
   "cell_type": "code",
   "execution_count": null,
   "id": "be214196-de94-4873-abb8-99b140729ec5",
   "metadata": {
    "tags": []
   },
   "outputs": [],
   "source": [
    "import os\n",
    "from pathlib import Path\n",
    "\n",
    "import mlflow\n",
    "import numpy as np"
   ]
  },
  {
   "cell_type": "code",
   "execution_count": null,
   "id": "822ba203-620e-4354-9cb2-aa9b7f46b229",
   "metadata": {},
   "outputs": [],
   "source": [
    "def start_experiment(experiment_name, run_name=\"\", output_dir=\"outputs\"):\n",
    "    rng = np.random.default_rng()\n",
    "    # set experiment name\n",
    "    mlflow.set_experiment(\n",
    "        experiment_name=experiment_name\n",
    "    )\n",
    "\n",
    "    # use context manager to start runs\n",
    "    with mlflow.start_run(run_name=run_name) as run:\n",
    "        print(\"Running experiment..\")\n",
    "        print(\"Run:\", run.info.run_uuid)\n",
    "\n",
    "        # set some tags\n",
    "        mlflow.set_tag(\"sample_name\", run_name)\n",
    "        mlflow.set_tag(\"run_file\", \"jupyter_notebook\")\n",
    "\n",
    "        # log some parameters\n",
    "        mlflow.log_param(\"sample_param\", rng.integers(0, 100))\n",
    "\n",
    "        # log some metrics\n",
    "        mlflow.log_metric(\"accuracy\", rng.random())\n",
    "        mlflow.log_metric(\"f1_score\", rng.random())\n",
    "\n",
    "        # to log artifacts, we need to have them in directory first\n",
    "        output_dir = Path(output_dir)\n",
    "        if not output_dir.exists():\n",
    "            output_dir.mkdir(parents=True)\n",
    "        model_filename = output_dir / \"model.joblib\"\n",
    "        with model_filename.open(\"w\") as f:\n",
    "            f.write(\"This is a model!\")\n",
    "\n",
    "        mlflow.log_artifact(str(output_dir), artifact_path=\"artifact\")"
   ]
  },
  {
   "cell_type": "code",
   "execution_count": null,
   "id": "b92a3cbc-2790-496f-8163-1f0555433a44",
   "metadata": {
    "tags": []
   },
   "outputs": [],
   "source": [
    "EXPERIMENT_NAME = \"first-experiment\"\n",
    "os.environ[\"GOOGLE_APPLICATION_CREDENTIALS\"] = \"\""
   ]
  },
  {
   "cell_type": "code",
   "execution_count": null,
   "id": "d85c4b0a-13ed-4ee6-abe1-1e242c072b67",
   "metadata": {
    "tags": []
   },
   "outputs": [],
   "source": [
    "mlflow.set_tracking_uri(\"\")"
   ]
  },
  {
   "cell_type": "code",
   "execution_count": null,
   "id": "e3f7e0ce-b6d4-4e83-8177-cba029bc7dcd",
   "metadata": {
    "tags": []
   },
   "outputs": [],
   "source": [
    "mlflow.set_experiment(EXPERIMENT_NAME)"
   ]
  },
  {
   "cell_type": "code",
   "execution_count": null,
   "id": "eb9dae94-19f6-4952-9300-67dbe68dd9d4",
   "metadata": {
    "tags": []
   },
   "outputs": [],
   "source": [
    "start_experiment(EXPERIMENT_NAME, run_name=\"run-1\")"
   ]
  }
 ],
 "metadata": {
  "kernelspec": {
   "display_name": "Python 3 (ipykernel)",
   "language": "python",
   "name": "python3"
  },
  "language_info": {
   "codemirror_mode": {
    "name": "ipython",
    "version": 3
   },
   "file_extension": ".py",
   "mimetype": "text/x-python",
   "name": "python",
   "nbconvert_exporter": "python",
   "pygments_lexer": "ipython3",
   "version": "3.9.12"
  }
 },
 "nbformat": 4,
 "nbformat_minor": 5
}
